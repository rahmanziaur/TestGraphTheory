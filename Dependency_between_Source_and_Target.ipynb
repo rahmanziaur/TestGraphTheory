{
  "nbformat": 4,
  "nbformat_minor": 0,
  "metadata": {
    "colab": {
      "provenance": []
    },
    "kernelspec": {
      "name": "python3",
      "display_name": "Python 3"
    },
    "language_info": {
      "name": "python"
    }
  },
  "cells": [
    {
      "cell_type": "markdown",
      "source": [
        "**Sk. Tanzir Mehedi**\n",
        "\n",
        "*Lecturer, Dept. of CSE*\n",
        "\n",
        "*University of Asia Pacific*"
      ],
      "metadata": {
        "id": "u9r06vJS-KuS"
      }
    },
    {
      "cell_type": "code",
      "source": [
        "with open('TestDataAnalysis.csv', 'r') as csvfile:\n",
        "    reader = csv.reader(csvfile)\n",
        "    next(reader)\n",
        "    rows = []\n",
        "    for row in reader:\n",
        "        new_row = row[:2] + row[5:]\n",
        "        rows.append(new_row)\n",
        "\n",
        "with open('OutputTestDataAnalysis.csv', 'w', newline='') as output_file:\n",
        "    writer = csv.writer(output_file)\n",
        "    writer.writerows(rows)"
      ],
      "metadata": {
        "id": "dNj3KZaR0Mrn"
      },
      "execution_count": 113,
      "outputs": []
    },
    {
      "cell_type": "code",
      "execution_count": 139,
      "metadata": {
        "colab": {
          "base_uri": "https://localhost:8080/"
        },
        "id": "ChH3Sxg5klgw",
        "outputId": "8d8ea333-627e-42d9-e6e4-0d1b2909c0e9"
      },
      "outputs": [
        {
          "output_type": "stream",
          "name": "stdout",
          "text": [
            "Please enter source:\n",
            "\n",
            "10\n",
            "Please enter target:\n",
            "\n",
            "15\n",
            "There is no dependency between 10 and 15.\n"
          ]
        }
      ],
      "source": [
        "import csv\n",
        "import heapq\n",
        "\n",
        "def STM(graph, start, end):\n",
        "    distances = {start: 0}\n",
        "    queue = [(0, start)]\n",
        "    while queue:\n",
        "        (dist, node) = heapq.heappop(queue)\n",
        "        if node == end:\n",
        "            return distances[end]\n",
        "        if dist > distances[node]:\n",
        "            continue\n",
        "        for neighbor, weight in graph[node].items():\n",
        "            new_dist = dist + weight\n",
        "            if neighbor not in distances or new_dist < distances[neighbor]:\n",
        "                distances[neighbor] = new_dist\n",
        "                heapq.heappush(queue, (new_dist, neighbor))\n",
        "    return -1\n",
        "\n",
        "graph = {}\n",
        "with open('OutputTestDataAnalysis.csv', 'r') as csvfile:\n",
        "    reader = csv.reader(csvfile)\n",
        "    for row in reader:\n",
        "        Source, Target, Weight = row\n",
        "        Weight = int(Weight)\n",
        "        if Source not in graph:\n",
        "            graph[Source] = {}\n",
        "        if Target not in graph:\n",
        "            graph[Target] = {}\n",
        "        graph[Source][Target] = Weight\n",
        "        graph[Target][Source] = Weight\n",
        "\n",
        "# Find the shortest path from source to target\n",
        "\n",
        "source = input(\"Please enter source:\\n\\n\")\n",
        "target = input(\"Please enter target:\\n\\n\")\n",
        "\n",
        "num_nodes = STM(graph, source, target)\n",
        "\n",
        "# Print the result\n",
        "if num_nodes == -1:\n",
        "    print(f'There is no dependency between {source} and {target}.')   #pandas and uap\n",
        "else:\n",
        "    print(f'The number of dependencies between {source} and {target} is {num_nodes}.') #pandas and time\n"
      ]
    }
  ]
}