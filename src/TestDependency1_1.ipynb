{
  "nbformat": 4,
  "nbformat_minor": 0,
  "metadata": {
    "colab": {
      "provenance": [],
      "name": "TestDependency1.1.ipynb",
      "include_colab_link": true
    },
    "kernelspec": {
      "name": "python3",
      "display_name": "Python 3"
    },
    "language_info": {
      "name": "python"
    }
  },
  "cells": [
    {
      "cell_type": "markdown",
      "metadata": {
        "id": "view-in-github",
        "colab_type": "text"
      },
      "source": [
        "<a href=\"https://colab.research.google.com/github/rahmanziaur/TestGraphTheory/blob/main/TestDependency1_1.ipynb\" target=\"_parent\"><img src=\"https://colab.research.google.com/assets/colab-badge.svg\" alt=\"Open In Colab\"/></a>"
      ]
    },
    {
      "cell_type": "code",
      "source": [
        "import csv\n",
        "import heapq\n",
        "\n",
        "with open('TestDataAnalysis.csv', 'r') as csvfile:\n",
        "    reader = csv.reader(csvfile)\n",
        "    next(reader)\n",
        "    rows = []\n",
        "    for row in reader:\n",
        "        new_row = row[:2] + row[5:]\n",
        "        rows.append(new_row)\n",
        "\n",
        "with open('OutputTestDataAnalysis.csv', 'w', newline='') as output_file:\n",
        "    writer = csv.writer(output_file)\n",
        "    writer.writerows(rows)"
      ],
      "metadata": {
        "id": "dNj3KZaR0Mrn"
      },
      "execution_count": 8,
      "outputs": []
    },
    {
      "cell_type": "code",
      "execution_count": 14,
      "metadata": {
        "colab": {
          "base_uri": "https://localhost:8080/",
          "height": 235
        },
        "id": "ChH3Sxg5klgw",
        "outputId": "2c25e3c7-1b38-45e2-9458-77a61a987a15"
      },
      "outputs": [
        {
          "output_type": "error",
          "ename": "ValueError",
          "evalue": "ignored",
          "traceback": [
            "\u001b[0;31m---------------------------------------------------------------------------\u001b[0m",
            "\u001b[0;31mValueError\u001b[0m                                Traceback (most recent call last)",
            "\u001b[0;32m<ipython-input-14-47a7f37ca7bc>\u001b[0m in \u001b[0;36m<cell line: 21>\u001b[0;34m()\u001b[0m\n\u001b[1;32m     23\u001b[0m     \u001b[0;32mfor\u001b[0m \u001b[0mrow\u001b[0m \u001b[0;32min\u001b[0m \u001b[0mreader\u001b[0m\u001b[0;34m:\u001b[0m\u001b[0;34m\u001b[0m\u001b[0;34m\u001b[0m\u001b[0m\n\u001b[1;32m     24\u001b[0m         \u001b[0mSource\u001b[0m\u001b[0;34m,\u001b[0m \u001b[0mTarget\u001b[0m\u001b[0;34m,\u001b[0m \u001b[0mWeight\u001b[0m \u001b[0;34m=\u001b[0m \u001b[0mrow\u001b[0m\u001b[0;34m\u001b[0m\u001b[0;34m\u001b[0m\u001b[0m\n\u001b[0;32m---> 25\u001b[0;31m         \u001b[0mWeight\u001b[0m \u001b[0;34m=\u001b[0m \u001b[0mint\u001b[0m\u001b[0;34m(\u001b[0m\u001b[0mWeight\u001b[0m\u001b[0;34m)\u001b[0m\u001b[0;34m\u001b[0m\u001b[0;34m\u001b[0m\u001b[0m\n\u001b[0m\u001b[1;32m     26\u001b[0m         \u001b[0;32mif\u001b[0m \u001b[0mSource\u001b[0m \u001b[0;32mnot\u001b[0m \u001b[0;32min\u001b[0m \u001b[0mgraph\u001b[0m\u001b[0;34m:\u001b[0m\u001b[0;34m\u001b[0m\u001b[0;34m\u001b[0m\u001b[0m\n\u001b[1;32m     27\u001b[0m             \u001b[0mgraph\u001b[0m\u001b[0;34m[\u001b[0m\u001b[0mSource\u001b[0m\u001b[0;34m]\u001b[0m \u001b[0;34m=\u001b[0m \u001b[0;34m{\u001b[0m\u001b[0;34m}\u001b[0m\u001b[0;34m\u001b[0m\u001b[0;34m\u001b[0m\u001b[0m\n",
            "\u001b[0;31mValueError\u001b[0m: invalid literal for int() with base 10: '1.00'"
          ]
        }
      ],
      "source": [
        "import csv\n",
        "import heapq\n",
        "\n",
        "def STM(graph, start, end):\n",
        "    distances = {start: 0}\n",
        "    queue = [(0, start)]\n",
        "    while queue:\n",
        "        (dist, node) = heapq.heappop(queue)\n",
        "        if node == end:\n",
        "            return distances[end]\n",
        "        if dist > distances[node]:\n",
        "            continue\n",
        "        for neighbor, weight in graph[node].items():\n",
        "            new_dist = dist + weight\n",
        "            if neighbor not in distances or new_dist < distances[neighbor]:\n",
        "                distances[neighbor] = new_dist\n",
        "                heapq.heappush(queue, (new_dist, neighbor))\n",
        "    return -1\n",
        "\n",
        "graph = {}\n",
        "with open('OutputTestDataAnalysis.csv', 'r') as csvfile:\n",
        "    reader = csv.reader(csvfile)\n",
        "    for row in reader:\n",
        "        Source, Target, Weight = row\n",
        "        Weight = int(Weight)\n",
        "        if Source not in graph:\n",
        "            graph[Source] = {}\n",
        "        if Target not in graph:\n",
        "            graph[Target] = {}\n",
        "        graph[Source][Target] = Weight\n",
        "        graph[Target][Source] = Weight\n",
        "\n",
        "# Find the shortest path from source to target\n",
        "\n",
        "source = input(\"Please enter source:\\n\\n\")\n",
        "target = input(\"Please enter target:\\n\\n\")\n",
        "\n",
        "\n",
        "num_nodes = STM(graph, source, target)\n",
        "\n",
        "# Print the result\n",
        "if num_nodes == -1:\n",
        "    print(f'There is no dependency between {source} and {target}.')   #pandas and uap\n",
        "else:\n",
        "    print(f'The number of dependencies between {source} and {target} is {num_nodes}.') #pandas and time\n"
      ]
    },
    {
      "cell_type": "code",
      "source": [
        "import csv\n",
        "import heapq\n",
        "\n",
        "def STM(graph, start, end):\n",
        "    distances = {start: 0}\n",
        "    queue = [(0, start)]\n",
        "    while queue:\n",
        "        (dist, node) = heapq.heappop(queue)\n",
        "        if node == end:\n",
        "            return distances[end]\n",
        "        if dist > distances[node]:\n",
        "            continue\n",
        "        for neighbor, weight in graph[node].items():\n",
        "            new_dist = dist + weight\n",
        "            if neighbor not in distances or new_dist < distances[neighbor]:\n",
        "                distances[neighbor] = new_dist\n",
        "                heapq.heappush(queue, (new_dist, neighbor))\n",
        "    return -1\n",
        "\n",
        "graph = {}\n",
        "with open('OutputTestDataAnalysis.csv', 'r') as csvfile:\n",
        "    reader = csv.reader(csvfile)\n",
        "    for row in reader:\n",
        "        Source, Target, Weight = row\n",
        "        Weight = int(Weight) \n",
        "        if Source not in graph:\n",
        "            graph[Source] = {}\n",
        "        if Target not in graph:\n",
        "            graph[Target] = {}\n",
        "        graph[Source][Target] = Weight\n",
        "        graph[Target][Source] = Weight\n",
        "\n",
        "# Find the shortest path from source to target\n",
        "\n",
        "source = input(\"Please enter source:\\n\\n\")\n",
        "target = input(\"Please enter target:\\n\\n\")\n",
        "\n",
        "\n",
        "num_nodes = STM(graph, source, target)\n",
        "\n",
        "# Print the result\n",
        "if num_nodes == -1:\n",
        "    print(f'There is no dependency between {source} and {target}.')   #pandas and uap\n",
        "else:\n",
        "    print(f'The number of dependencies between {source} and {target} is {num_nodes}.') #pandas and time\n"
      ],
      "metadata": {
        "id": "74ZdaedU5kxT"
      },
      "execution_count": null,
      "outputs": []
    },
    {
      "cell_type": "code",
      "source": [
        "import csv\n",
        "import heapq\n",
        "\n",
        "def STM(graph, start, end):\n",
        "    distances = {start: 0}\n",
        "    queue = [(0, start)]\n",
        "    while queue:\n",
        "        (dist, node) = heapq.heappop(queue)\n",
        "        if node == end:\n",
        "            return distances[end]\n",
        "        if dist > distances[node]:\n",
        "            continue\n",
        "        for neighbor, weight in graph[node].items():\n",
        "            new_dist = dist + weight\n",
        "            if neighbor not in distances or new_dist < distances[neighbor]:\n",
        "                distances[neighbor] = new_dist\n",
        "                heapq.heappush(queue, (new_dist, neighbor))\n",
        "    return -1\n",
        "\n",
        "graph = {}\n",
        "with open('OutputTestDataAnalysis.csv', 'r') as csvfile:\n",
        "    reader = csv.reader(csvfile)\n",
        "    for row in reader:\n",
        "        Source, Target, Weight = row\n",
        "        Weight = int(Weight)\n",
        "        if Source not in graph:\n",
        "            graph[Source] = {}\n",
        "        if Target not in graph:\n",
        "            graph[Target] = {}\n",
        "        graph[Source][Target] = Weight\n",
        "        graph[Target][Source] = Weight\n",
        "\n",
        "# Find the shortest path from source to target\n",
        "\n",
        "source = input(\"Please enter source:\\n\\n\")\n",
        "target = input(\"Please enter target:\\n\\n\")\n",
        "\n",
        "num_nodes = STM(graph, source, target)\n",
        "\n",
        "# Print the result\n",
        "if num_nodes == -1:\n",
        "    print(f'There is no dependency between {source} and {target}.')   #pandas and uap\n",
        "else:\n",
        "    print(f'The number of dependencies between {source} and {target} is {num_nodes}.') #pandas and time\n"
      ],
      "metadata": {
        "id": "Pjv8gKAfqdP0",
        "outputId": "1b456a1b-e397-4028-cb93-47cfb080e9b7",
        "colab": {
          "base_uri": "https://localhost:8080/"
        }
      },
      "execution_count": 1,
      "outputs": [
        {
          "output_type": "stream",
          "name": "stdout",
          "text": [
            "Please enter source:\n",
            "\n",
            "12\n",
            "Please enter target:\n",
            "\n",
            "34\n",
            "The number of dependencies between 12 and 34 is 3.\n"
          ]
        }
      ]
    }
  ]
}