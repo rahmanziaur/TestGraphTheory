{
  "nbformat": 4,
  "nbformat_minor": 0,
  "metadata": {
    "colab": {
      "provenance": [],
      "include_colab_link": true
    },
    "kernelspec": {
      "name": "python3",
      "display_name": "Python 3"
    },
    "language_info": {
      "name": "python"
    }
  },
  "cells": [
    {
      "cell_type": "markdown",
      "metadata": {
        "id": "view-in-github",
        "colab_type": "text"
      },
      "source": [
        "<a href=\"https://colab.research.google.com/github/rahmanziaur/TestGraphTheory/blob/main/Adjanceny.ipynb\" target=\"_parent\"><img src=\"https://colab.research.google.com/assets/colab-badge.svg\" alt=\"Open In Colab\"/></a>"
      ]
    },
    {
      "cell_type": "markdown",
      "source": [
        "***2) Importing Necessary Libraries***"
      ],
      "metadata": {
        "id": "aC2qYOo1UrBU"
      }
    },
    {
      "cell_type": "code",
      "source": [
        "import networkx as nx\n",
        "import matplotlib.pyplot as plt"
      ],
      "metadata": {
        "id": "HJY6sVAuMhnQ"
      },
      "execution_count": null,
      "outputs": []
    },
    {
      "cell_type": "markdown",
      "source": [
        "***3) First function creates Adjacency Matrix from given Graph vertices and Edges***"
      ],
      "metadata": {
        "id": "QYqehSb8U2P9"
      }
    },
    {
      "cell_type": "code",
      "source": [
        "def createAdjacencyMatrix(vertices,edges):\n",
        "  noofvertices=len(vertices)\n",
        "  adjM=[]\n",
        "  while(len(adjM)<noofvertices):\n",
        "    temp=[]\n",
        "    for i in range(noofvertices):\n",
        "      temp.append(0)\n",
        "    adjM.append(temp)\n",
        "  for edge in edges:\n",
        "    i=edge[0]\n",
        "    j=edge[1]\n",
        "    if i>=noofvertices or j>=noofvertices or i<0 or j<0:\n",
        "      print(f\"Not a Proper Input in Edge {i},{j}\")\n",
        "    else:\n",
        "      adjM[i][j]=1\n",
        "      adjM[j][i]=1\n",
        "  G=nx.Graph()\n",
        "  G.add_edges_from(edges)\n",
        "  nx.draw_networkx(G)\n",
        "  plt.show()\n",
        "  return adjM\n",
        "  "
      ],
      "metadata": {
        "id": "hroIXQsQRb23"
      },
      "execution_count": null,
      "outputs": []
    },
    {
      "cell_type": "markdown",
      "source": [
        "***4) Creating a Graph from Vertices and Edges to Check the function***"
      ],
      "metadata": {
        "id": "8QhSmaucXp5g"
      }
    },
    {
      "cell_type": "code",
      "source": [
        "vertices=[0,1,2,3,4,5]\n",
        "edges=[[1,2],[2,4],[1,5],[3,5],[4,5],[1,3],[0,3],[0,2],[5,3],[5,1]]"
      ],
      "metadata": {
        "id": "d5dd6Ay2TP29"
      },
      "execution_count": null,
      "outputs": []
    },
    {
      "cell_type": "code",
      "source": [
        "createAdjacencyMatrix(vertices,edges)"
      ],
      "metadata": {
        "colab": {
          "base_uri": "https://localhost:8080/",
          "height": 510
        },
        "id": "FnyZLBbeTfQN",
        "outputId": "e88b0f03-5c97-404f-b596-e7f8952ff618"
      },
      "execution_count": null,
      "outputs": [
        {
          "output_type": "display_data",
          "data": {
            "text/plain": [
              "<Figure size 640x480 with 1 Axes>"
            ],
            "image/png": "[encoded data removed]"
          },
          "metadata": {}
        },
        {
          "output_type": "execute_result",
          "data": {
            "text/plain": [
              "[[0, 0, 1, 1, 0, 0],\n",
              " [0, 0, 1, 1, 0, 1],\n",
              " [1, 1, 0, 0, 1, 0],\n",
              " [1, 1, 0, 0, 0, 1],\n",
              " [0, 0, 1, 0, 0, 1],\n",
              " [0, 1, 0, 1, 1, 0]]"
            ]
          },
          "metadata": {},
          "execution_count": 5
        }
      ]
    },
    {
      "cell_type": "markdown",
      "source": [
        "***5) The Second Function creates Graph from Adjacency Matrix***"
      ],
      "metadata": {
        "id": "feLOdXrhU-iL"
      }
    },
    {
      "cell_type": "code",
      "source": [
        "def createGraph(adjM):\n",
        "  edges=[]\n",
        "  noofvertices=len(adjM)\n",
        "  for mat in adjM:\n",
        "    if len(mat)>noofvertices or len(mat)<noofvertices:\n",
        "      print(\"False Adjacency Matrix\")\n",
        "      return 0\n",
        "  for i in range(len(adjM)):\n",
        "    mat=adjM[i]\n",
        "    for j in range(len(mat)):\n",
        "      if mat[j]==1:\n",
        "        temp=[i,j]\n",
        "        edges.append(temp)\n",
        "  G=nx.Graph()\n",
        "  G.add_edges_from(edges)\n",
        "  nx.draw_networkx(G)\n",
        "  plt.show()\n",
        "  vertices=[i for i in range(len(adjM))]\n",
        "  return vertices,edges"
      ],
      "metadata": {
        "id": "0SAtab_dVSvR"
      },
      "execution_count": null,
      "outputs": []
    },
    {
      "cell_type": "markdown",
      "source": [
        "***6) Creating an Adjacency Matrix to check the function***"
      ],
      "metadata": {
        "id": "zXqZE61DXw2K"
      }
    },
    {
      "cell_type": "code",
      "source": [
        "adjM=[[1,0,1,0,1],[0,0,1,1,0],[1,1,0,1,0],[1,1,0,0,0],[0,0,0,1,0]]\n"
      ],
      "metadata": {
        "id": "vBODpY-oX2-O"
      },
      "execution_count": null,
      "outputs": []
    },
    {
      "cell_type": "code",
      "source": [
        "createGraph(adjM)"
      ],
      "metadata": {
        "colab": {
          "base_uri": "https://localhost:8080/",
          "height": 456
        },
        "id": "liOb7ID2YI7K",
        "outputId": "c24516cb-deea-4c2e-b00c-f405a3205bea"
      },
      "execution_count": null,
      "outputs": [
        {
          "output_type": "display_data",
          "data": {
            "text/plain": [
              "<Figure size 432x288 with 1 Axes>"
            ],
            "image/png": "[encoded data removed]"
          },
          "metadata": {}
        },
        {
          "output_type": "execute_result",
          "data": {
            "text/plain": [
              "([0, 1, 2, 3, 4],\n",
              " [[0, 0],\n",
              "  [0, 2],\n",
              "  [0, 4],\n",
              "  [1, 2],\n",
              "  [1, 3],\n",
              "  [2, 0],\n",
              "  [2, 1],\n",
              "  [2, 3],\n",
              "  [3, 0],\n",
              "  [3, 1],\n",
              "  [4, 3]])"
            ]
          },
          "metadata": {},
          "execution_count": 60
        }
      ]
    },
    {
      "cell_type": "code",
      "source": [
        "import csv\n",
        "import heapq\n",
        "\n",
        "def STM(graph, start, end):\n",
        "    distances = {start: 0}\n",
        "    queue = [(0, start)]\n",
        "    while queue:\n",
        "        (dist, node) = heapq.heappop(queue)\n",
        "        if node == end:\n",
        "            return distances[end]\n",
        "        if dist > distances[node]:\n",
        "            continue\n",
        "        for neighbor, weight in graph[node].items():\n",
        "            new_dist = dist + weight\n",
        "            if neighbor not in distances or new_dist < distances[neighbor]:\n",
        "                distances[neighbor] = new_dist\n",
        "                heapq.heappush(queue, (new_dist, neighbor))\n",
        "    \n",
        "    # Find how many sources are directly connected\n",
        "    total_dependency = 0 #of start\n",
        "    for source in graph.keys():\n",
        "        if source != start and distances.get(source) != None and distances[source] > 0:\n",
        "            total_dependency = total_dependency +1 \n",
        "    return total_dependency\n",
        "\n",
        "graph = {}\n",
        "with open('OutputTestDataAnalysis.csv', 'r') as csvfile:\n",
        "    reader = csv.reader(csvfile)\n",
        "    for row in reader:\n",
        "        Source, Target, Weight = row\n",
        "        Weight = int(Weight)\n",
        "        if Source not in graph:\n",
        "            graph[Source] = {}\n",
        "        if Target not in graph:\n",
        "            graph[Target] = {}\n",
        "        graph[Source][Target] = Weight\n",
        "        graph[Target][Source] = Weight\n",
        "\n",
        "# Find the source with the maximum dependencies\n",
        "max_dependencies = 0\n",
        "max_source = None\n",
        "dependency_list = []\n",
        "for source in graph.keys():\n",
        "    dependencies = STM(graph, source, \"\")  # Pass an empty string as the target to find dependencies for all targets\n",
        "    dependency_list.append([source,dependencies])\n",
        "    if dependencies > max_dependencies:\n",
        "        max_dependencies = dependencies\n",
        "        max_source = source\n",
        "\n",
        "# Sort the dependency_list\n",
        "dependency_list = sorted(dependency_list, key=lambda x: x[1], reverse=True) # Set reverse=False if we need to change the order\n",
        "\n",
        "# Write dependency_list into a CSV file\n",
        "with open(\"Output.csv\", \"w\") as f:\n",
        "    writer = csv.writer(f)\n",
        "    writer.writerows(dependency_list)\n",
        "\n",
        "# Print the result\n",
        "if max_source is None:\n",
        "    print(\"No sources found in the graph.\")\n",
        "else:\n",
        "    print(f\"The source with the maximum dependencies is {max_source} with {max_dependencies} dependencies.\")\n"
      ],
      "metadata": {
        "id": "MRTaCwa_YBVk",
        "outputId": "cc2db56d-ca66-4cc8-a440-aab2ac6014ea",
        "colab": {
          "base_uri": "https://localhost:8080/"
        }
      },
      "execution_count": null,
      "outputs": [
        {
          "output_type": "stream",
          "name": "stdout",
          "text": [
            "The source with the maximum dependencies is 2 with 33 dependencies.\n"
          ]
        }
      ]
    }
  ]
}