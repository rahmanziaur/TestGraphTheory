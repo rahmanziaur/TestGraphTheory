{
  "nbformat": 4,
  "nbformat_minor": 0,
  "metadata": {
    "colab": {
      "provenance": [],
      "name": "TestDependency1.1.ipynb",
      "include_colab_link": true
    },
    "kernelspec": {
      "name": "python3",
      "display_name": "Python 3"
    },
    "language_info": {
      "name": "python"
    }
  },
  "cells": [
    {
      "cell_type": "markdown",
      "metadata": {
        "id": "view-in-github",
        "colab_type": "text"
      },
      "source": [
        "<a href=\"https://colab.research.google.com/github/rahmanziaur/TestGraphTheory/blob/main/TestDependency1_3.ipynb\" target=\"_parent\"><img src=\"https://colab.research.google.com/assets/colab-badge.svg\" alt=\"Open In Colab\"/></a>"
      ]
    },
    {
      "cell_type": "code",
      "source": [
        "import csv\n",
        "import heapq\n",
        "\n",
        "with open('TestDataAnalysis.csv', 'r') as csvfile:\n",
        "    reader = csv.reader(csvfile)\n",
        "    next(reader)\n",
        "    rows = []\n",
        "    for row in reader:\n",
        "        new_row = row[:2] + row[5:]\n",
        "        rows.append(new_row)\n",
        "\n",
        "with open('OutputTestDataAnalysis.csv', 'w', newline='') as output_file:\n",
        "    writer = csv.writer(output_file)\n",
        "    writer.writerows(rows)"
      ],
      "metadata": {
        "id": "dNj3KZaR0Mrn"
      },
      "execution_count": null,
      "outputs": []
    },
    {
      "cell_type": "code",
      "execution_count": null,
      "metadata": {
        "colab": {
          "base_uri": "https://localhost:8080/",
          "height": 235
        },
        "id": "ChH3Sxg5klgw",
        "outputId": "2c25e3c7-1b38-45e2-9458-77a61a987a15"
      },
      "outputs": [
        {
          "output_type": "error",
          "ename": "ValueError",
          "evalue": "ignored",
          "traceback": [
            "\u001b[0;31m---------------------------------------------------------------------------\u001b[0m",
            "\u001b[0;31mValueError\u001b[0m                                Traceback (most recent call last)",
            "\u001b[0;32m<ipython-input-14-47a7f37ca7bc>\u001b[0m in \u001b[0;36m<cell line: 21>\u001b[0;34m()\u001b[0m\n\u001b[1;32m     23\u001b[0m     \u001b[0;32mfor\u001b[0m \u001b[0mrow\u001b[0m \u001b[0;32min\u001b[0m \u001b[0mreader\u001b[0m\u001b[0;34m:\u001b[0m\u001b[0;34m\u001b[0m\u001b[0;34m\u001b[0m\u001b[0m\n\u001b[1;32m     24\u001b[0m         \u001b[0mSource\u001b[0m\u001b[0;34m,\u001b[0m \u001b[0mTarget\u001b[0m\u001b[0;34m,\u001b[0m \u001b[0mWeight\u001b[0m \u001b[0;34m=\u001b[0m \u001b[0mrow\u001b[0m\u001b[0;34m\u001b[0m\u001b[0;34m\u001b[0m\u001b[0m\n\u001b[0;32m---> 25\u001b[0;31m         \u001b[0mWeight\u001b[0m \u001b[0;34m=\u001b[0m \u001b[0mint\u001b[0m\u001b[0;34m(\u001b[0m\u001b[0mWeight\u001b[0m\u001b[0;34m)\u001b[0m\u001b[0;34m\u001b[0m\u001b[0;34m\u001b[0m\u001b[0m\n\u001b[0m\u001b[1;32m     26\u001b[0m         \u001b[0;32mif\u001b[0m \u001b[0mSource\u001b[0m \u001b[0;32mnot\u001b[0m \u001b[0;32min\u001b[0m \u001b[0mgraph\u001b[0m\u001b[0;34m:\u001b[0m\u001b[0;34m\u001b[0m\u001b[0;34m\u001b[0m\u001b[0m\n\u001b[1;32m     27\u001b[0m             \u001b[0mgraph\u001b[0m\u001b[0;34m[\u001b[0m\u001b[0mSource\u001b[0m\u001b[0;34m]\u001b[0m \u001b[0;34m=\u001b[0m \u001b[0;34m{\u001b[0m\u001b[0;34m}\u001b[0m\u001b[0;34m\u001b[0m\u001b[0;34m\u001b[0m\u001b[0m\n",
            "\u001b[0;31mValueError\u001b[0m: invalid literal for int() with base 10: '1.00'"
          ]
        }
      ],
      "source": [
        "import csv\n",
        "import heapq\n",
        "\n",
        "def STM(graph, start, end):\n",
        "    distances = {start: 0}\n",
        "    queue = [(0, start)]\n",
        "    while queue:\n",
        "        (dist, node) = heapq.heappop(queue)\n",
        "        if node == end:\n",
        "            return distances[end]\n",
        "        if dist > distances[node]:\n",
        "            continue\n",
        "        for neighbor, weight in graph[node].items():\n",
        "            new_dist = dist + weight\n",
        "            if neighbor not in distances or new_dist < distances[neighbor]:\n",
        "                distances[neighbor] = new_dist\n",
        "                heapq.heappush(queue, (new_dist, neighbor))\n",
        "    return -1\n",
        "\n",
        "graph = {}\n",
        "with open('OutputTestDataAnalysis.csv', 'r') as csvfile:\n",
        "    reader = csv.reader(csvfile)\n",
        "    for row in reader:\n",
        "        Source, Target, Weight = row\n",
        "        Weight = int(Weight)\n",
        "        if Source not in graph:\n",
        "            graph[Source] = {}\n",
        "        if Target not in graph:\n",
        "            graph[Target] = {}\n",
        "        graph[Source][Target] = Weight\n",
        "        graph[Target][Source] = Weight\n",
        "\n",
        "# Find the shortest path from source to target\n",
        "\n",
        "source = input(\"Please enter source:\\n\\n\")\n",
        "target = input(\"Please enter target:\\n\\n\")\n",
        "\n",
        "\n",
        "num_nodes = STM(graph, source, target)\n",
        "\n",
        "# Print the result\n",
        "if num_nodes == -1:\n",
        "    print(f'There is no dependency between {source} and {target}.')   #pandas and uap\n",
        "else:\n",
        "    print(f'The number of dependencies between {source} and {target} is {num_nodes}.') #pandas and time\n"
      ]
    },
    {
      "cell_type": "code",
      "source": [
        "import csv\n",
        "import heapq\n",
        "\n",
        "def STM(graph, start, end):\n",
        "    distances = {start: 0}\n",
        "    queue = [(0, start)]\n",
        "    while queue:\n",
        "        (dist, node) = heapq.heappop(queue)\n",
        "        if node == end:\n",
        "            return distances[end]\n",
        "        if dist > distances[node]:\n",
        "            continue\n",
        "        for neighbor, weight in graph[node].items():\n",
        "            new_dist = dist + weight\n",
        "            if neighbor not in distances or new_dist < distances[neighbor]:\n",
        "                distances[neighbor] = new_dist\n",
        "                heapq.heappush(queue, (new_dist, neighbor))\n",
        "    return -1\n",
        "\n",
        "graph = {}\n",
        "with open('OutputTestDataAnalysis.csv', 'r') as csvfile:\n",
        "    reader = csv.reader(csvfile)\n",
        "    for row in reader:\n",
        "        Source, Target, Weight = row\n",
        "        Weight = int(Weight) \n",
        "        if Source not in graph:\n",
        "            graph[Source] = {}\n",
        "        if Target not in graph:\n",
        "            graph[Target] = {}\n",
        "        graph[Source][Target] = Weight\n",
        "        graph[Target][Source] = Weight\n",
        "\n",
        "# Find the shortest path from source to target\n",
        "\n",
        "source = input(\"Please enter source:\\n\\n\")\n",
        "target = input(\"Please enter target:\\n\\n\")\n",
        "\n",
        "\n",
        "num_nodes = STM(graph, source, target)\n",
        "\n",
        "# Print the result\n",
        "if num_nodes == -1:\n",
        "    print(f'There is no dependency between {source} and {target}.')   #pandas and uap\n",
        "else:\n",
        "    print(f'The number of dependencies between {source} and {target} is {num_nodes}.') #pandas and time\n"
      ],
      "metadata": {
        "id": "74ZdaedU5kxT"
      },
      "execution_count": null,
      "outputs": []
    },
    {
      "cell_type": "code",
      "source": [
        "import csv\n",
        "import heapq\n",
        "\n",
        "def STM(graph, start, end):\n",
        "    distances = {start: 0}\n",
        "    queue = [(0, start)]\n",
        "    while queue:\n",
        "        (dist, node) = heapq.heappop(queue)\n",
        "        if node == end:\n",
        "            return distances[end]\n",
        "        if dist > distances[node]:\n",
        "            continue\n",
        "        for neighbor, weight in graph[node].items():\n",
        "            new_dist = dist + weight\n",
        "            if neighbor not in distances or new_dist < distances[neighbor]:\n",
        "                distances[neighbor] = new_dist\n",
        "                heapq.heappush(queue, (new_dist, neighbor))\n",
        "    return -1\n",
        "\n",
        "graph = {}\n",
        "with open('OutputTestDataAnalysis.csv', 'r') as csvfile:\n",
        "    reader = csv.reader(csvfile)\n",
        "    for row in reader:\n",
        "        Source, Target, Weight = row\n",
        "        Weight = int(Weight)\n",
        "        if Source not in graph:\n",
        "            graph[Source] = {}\n",
        "        if Target not in graph:\n",
        "            graph[Target] = {}\n",
        "        graph[Source][Target] = Weight\n",
        "        graph[Target][Source] = Weight\n",
        "\n",
        "# Find the shortest path from source to target\n",
        "\n",
        "source = input(\"Please enter source:\\n\\n\")\n",
        "target = input(\"Please enter target:\\n\\n\")\n",
        "\n",
        "num_nodes = STM(graph, source, target)\n",
        "\n",
        "# Print the result\n",
        "if num_nodes == -1:\n",
        "    print(f'There is no dependency between {source} and {target}.')   #pandas and uap\n",
        "else:\n",
        "    print(f'The number of dependencies between {source} and {target} is {num_nodes}.') #pandas and time\n"
      ],
      "metadata": {
        "id": "Pjv8gKAfqdP0",
        "outputId": "1b456a1b-e397-4028-cb93-47cfb080e9b7",
        "colab": {
          "base_uri": "https://localhost:8080/"
        }
      },
      "execution_count": null,
      "outputs": [
        {
          "output_type": "stream",
          "name": "stdout",
          "text": [
            "Please enter source:\n",
            "\n",
            "12\n",
            "Please enter target:\n",
            "\n",
            "34\n",
            "The number of dependencies between 12 and 34 is 3.\n"
          ]
        }
      ]
    },
    {
      "cell_type": "code",
      "source": [
        "import csv\n",
        "import heapq\n",
        "\n",
        "def STM(graph, start, end):\n",
        "    distances = {start: 0}\n",
        "    queue = [(0, start)]\n",
        "    while queue:\n",
        "        (dist, node) = heapq.heappop(queue)\n",
        "        if node == end:\n",
        "            return distances[end]\n",
        "        if dist > distances[node]:\n",
        "            continue\n",
        "        for neighbor, weight in graph[node].items():\n",
        "            new_dist = dist + weight\n",
        "            if neighbor not in distances or new_dist < distances[neighbor]:\n",
        "                distances[neighbor] = new_dist\n",
        "                heapq.heappush(queue, (new_dist, neighbor))\n",
        "    return -1\n",
        "\n",
        "graph = {}\n",
        "with open('OutputTestDataAnalysis.csv', 'r') as csvfile:\n",
        "    reader = csv.reader(csvfile)\n",
        "    for row in reader:\n",
        "        Source, Target, Weight = row\n",
        "        Weight = int(Weight)\n",
        "        if Source not in graph:\n",
        "            graph[Source] = {}\n",
        "        if Target not in graph:\n",
        "            graph[Target] = {}\n",
        "        graph[Source][Target] = Weight\n",
        "        graph[Target][Source] = Weight\n",
        "\n",
        "# Find the source with the maximum dependencies\n",
        "max_dependencies = 0\n",
        "max_source = None\n",
        "\n",
        "for source in graph.keys():\n",
        "    dependencies = STM(graph, source, \"\")  # Pass an empty string as the target to find dependencies for all targets\n",
        "    if dependencies > max_dependencies:\n",
        "        max_dependencies = dependencies\n",
        "        max_source = source\n",
        "\n",
        "# Print the result\n",
        "if max_source is None:\n",
        "    print(\"No sources found in the graph.\")\n",
        "else:\n",
        "    print(f\"The source with the maximum dependencies is {max_source} with {max_dependencies} dependencies.\")\n"
      ],
      "metadata": {
        "colab": {
          "base_uri": "https://localhost:8080/"
        },
        "id": "cK85cu3Jf3c8",
        "outputId": "1f2c8751-8919-476d-948d-cff2b213b1d8"
      },
      "execution_count": null,
      "outputs": [
        {
          "output_type": "stream",
          "name": "stdout",
          "text": [
            "No sources found in the graph.\n"
          ]
        }
      ]
    },
    {
      "cell_type": "markdown",
      "source": [
        "Create Networkx Graph from CSV file"
      ],
      "metadata": {
        "id": "K0wt-4LcKpbc"
      }
    },
    {
      "cell_type": "code",
      "source": [
        "import networkx as nx\n",
        "import csv\n",
        "import matplotlib.pyplot as plt\n",
        "import pandas as pd\n",
        "\n",
        "df2 = pd.read_csv('https://raw.githubusercontent.com/rahmanziaur/TestGraphTheory/main/testGraph.csv')\n",
        "#df1 =[]\n",
        "\n",
        "#pd.Series([10, 20, 30, 40]\n",
        "\n",
        "d = {'one': pd.Series([10, 20, 30, 40], index=['a','b','c','d']), 'Two': pd.Series([10, 20, 30, 40], index=['a','b','c','d'])}\n",
        "\n",
        "df = pd.DataFrame(d)\n",
        "#print(df2)\n",
        "#data = {'id': pd.Series([10, 20, 30, 40,50]), index=['1','2','3','4','5']}\n",
        "\n",
        "# for index, row in df.iterrows():\n",
        "#   df1 = pd.Dataframe(row['target'], row['source'])\n",
        "  #df1.append()\n",
        "  #print(index, row['target'], row['source'])\n",
        "#print(df1)\n",
        "\n",
        "df_new = pd.DataFrame(df2['source'])\n",
        "\n",
        "# for index, row in df_new.iterrows():\n",
        "#   if(index > 30 and row['source'] >50):\n",
        "#     df_new2 = pd.DataFrame(row['source'])\n",
        "    #print(index, row['source'])\n",
        "    # print(df_new2)\n",
        "\n",
        "#print(df_new)\n",
        "\n",
        "Data = open('testGraph.csv', \"r\")\n",
        "next(Data, None)  # skip the first line in the input file\n",
        "Graphtype = nx.Graph()\n",
        "\n",
        "G = nx.parse_edgelist(Data, delimiter=',', create_using=Graphtype,\n",
        "                      nodetype=int, data=(('weight', float),))\n",
        "\n",
        "for x in G.nodes():\n",
        "      print (\"Node:\", x, \"has total #degree:\",G.degree(x))   \n",
        "for u,v in G.edges():\n",
        "      print (\"Weight of Edge (\"+str(u)+\",\"+str(v)+\")\", G.get_edge_data(u,v))\n",
        "\n",
        "nx.draw(G)\n",
        "plt.show()"
      ],
      "metadata": {
        "id": "HEOXQCglJc0j"
      },
      "execution_count": null,
      "outputs": []
    },
    {
      "cell_type": "code",
      "source": [
        "import pandas as pd\n",
        "import networkx as nx\n",
        "from matplotlib.pyplot import figure\n",
        "\n",
        "df = pd.read_csv(\"https://raw.githubusercontent.com/rahmanziaur/TestGraphTheory/main/testGraph.csv\")\n",
        "\n",
        "df_new = df[['target','source']]\n",
        "\n",
        "G = nx.Graph()\n",
        "#G = nx.from_pandas_edgelist(df_new, 'target', 'source')\n",
        "\n",
        "#G = nx.from_pandas_dataframe(df[:10],source='source', target='target',edge_attr=True, create_using=nx.DiGraph())\n",
        "G = nx.from_pandas_edgelist(df,source='source',target='target', edge_attr=None, create_using=nx.DiGraph())\n",
        "\n",
        "figure(figsize=(10,6))\n",
        "nx.draw_shell(G, with_labels =True)\n",
        "\n",
        "#G = nx.complete_graph(5)\n",
        "nx.draw(G)\n",
        "#nx.draw_spectral(G)\n",
        "\n",
        "\n",
        "\n",
        "\n",
        "\n",
        "\n",
        "\n"
      ],
      "metadata": {
        "id": "ht779rqtW5_-"
      },
      "execution_count": null,
      "outputs": []
    },
    {
      "cell_type": "code",
      "source": [
        "import networkx as nx\n",
        "import matplotlib.pyplot as plt\n",
        "G = nx.read_edgelist(\"a.csv\", delimiter=\",\")\n",
        "\n",
        "#G.edges()\n",
        "G.number_of_edges()\n",
        "# 36\n",
        "\n",
        "G.nodes()\n",
        "G.number_of_nodes()"
      ],
      "metadata": {
        "colab": {
          "base_uri": "https://localhost:8080/"
        },
        "id": "5LZ-w1ZsdGNA",
        "outputId": "8b1be22f-69fa-40c3-89c2-32c235ed3287"
      },
      "execution_count": null,
      "outputs": [
        {
          "output_type": "execute_result",
          "data": {
            "text/plain": [
              "22"
            ]
          },
          "metadata": {},
          "execution_count": 53
        }
      ]
    },
    {
      "cell_type": "code",
      "source": [
        "!pip install -q pydot"
      ],
      "metadata": {
        "id": "RijRuOS3pivP"
      },
      "execution_count": null,
      "outputs": []
    },
    {
      "cell_type": "code",
      "source": [
        "!apt install libgraphviz-dev"
      ],
      "metadata": {
        "id": "dnyIF0W2qtx8"
      },
      "execution_count": null,
      "outputs": []
    },
    {
      "cell_type": "code",
      "source": [
        "!pip install pygraphviz"
      ],
      "metadata": {
        "id": "XITv-MF7q4vn"
      },
      "execution_count": null,
      "outputs": []
    },
    {
      "cell_type": "code",
      "source": [
        "!apt install graphviz"
      ],
      "metadata": {
        "id": "H6zKxFj0rAPE"
      },
      "execution_count": null,
      "outputs": []
    },
    {
      "cell_type": "code",
      "source": [
        "!pip install -q graphviz"
      ],
      "metadata": {
        "id": "YcseEdQ7rKLs"
      },
      "execution_count": null,
      "outputs": []
    },
    {
      "cell_type": "code",
      "source": [
        "!pip install ForceAtlas2"
      ],
      "metadata": {
        "id": "h0GhtFZItqvC"
      },
      "execution_count": null,
      "outputs": []
    },
    {
      "cell_type": "code",
      "source": [
        "#G = nx.read_edgelist(\"a.csv\", delimiter=\",\")\n",
        "# For a DiGraph() [directed edges; not shown]:\n",
        "#G = nx.read_edgelist(\"a.csv\", delimiter=\",\", create_using=nx.DiGraph)\n",
        "\n",
        "# nx.dodecahedral_graph()\n",
        "# nx.spiral_layout(G)\n",
        "# G = nx.dodecahedral_graph()\n",
        "# nx.kamada_kawai_layout(G)\n",
        "# random_layout\n",
        "# circular_layout(G)\n",
        "#draw_shell(G), **options)"
      ],
      "metadata": {
        "id": "oVNxHjZK65E_"
      },
      "execution_count": null,
      "outputs": []
    },
    {
      "cell_type": "code",
      "source": [
        "import networkx as nx\n",
        "import matplotlib.pyplot as plt\n",
        "import pandas as pd\n",
        "\n",
        "options = {\n",
        "    'node_color': 'black',\n",
        "    'edge_color': 'gray',\n",
        "    'node_size': 300,\n",
        "    'width': .9,\n",
        "    'linewidths':0.25, \n",
        "    'font_size':7,\n",
        "    'with_labels':True,\n",
        "    'connectionstyle':\"arc3,rad=0.3\",\n",
        "    'arrowsize':12,\n",
        "    'font_weight':'bold', \n",
        "    'font_color':'white'\n",
        "}\n",
        "\n",
        "df = pd.read_csv(\"https://raw.githubusercontent.com/rahmanziaur/TestGraphTheory/main/testGraph.csv\")\n",
        "\n",
        "G = nx.from_pandas_edgelist(df,source='source',target='target', edge_attr=None, create_using=nx.DiGraph())\n",
        "deg =[]\n",
        "my_node =[]\n",
        "for node in G:\n",
        "  deg.append(G.degree(node))\n",
        "  my_node.append(node)\n",
        "\n",
        "\n",
        "pr = nx.pagerank(G, alpha=0.9)\n",
        "# degree_centrality = nx.degree_centrality(G)\n",
        "# degree_centrality\n",
        "\n",
        "data = {'Node': pd.Series(my_node, index=my_node), 'Degree': pd.Series(deg, index=my_node), 'PR': pd.Series(pr,index=pr.keys())}\n",
        "df_new = pd.DataFrame(data)\n",
        "\n",
        "\n",
        "#pr_df = pd.DataFrame(pr, index=my_node)\n",
        "#s  = pd.Series(pr,index=pr.keys())\n",
        "#df_new.append(pr_df)\n",
        "\n",
        "df_new.sort_values(by=['PR'], inplace=True)\n",
        "\n",
        "df_new.to_csv('test.csv', index=False)\n",
        "\n",
        "nx.draw(G, pos = nx.kamada_kawai_layout(G), **options)\n",
        "plt.savefig('test.pdf')\n",
        "plt.show() \n",
        "\n",
        "#df_new"
      ],
      "metadata": {
        "id": "vXK5Fykhdm6q",
        "outputId": "a6234699-3fd4-4c7c-db1b-183a6ea9bba9",
        "colab": {
          "base_uri": "https://localhost:8080/",
          "height": 516
        }
      },
      "execution_count": 6,
      "outputs": [
        {
          "output_type": "display_data",
          "data": {
            "text/plain": [
              "<Figure size 640x480 with 1 Axes>"
            ],
            "image/png": "[encoded data removed]"
          },
          "metadata": {}
        }
      ]
    },
    {
      "cell_type": "code",
      "source": [
        "import networkx as nx\n",
        "import matplotlib.pyplot as plt\n",
        "import pandas as pd\n",
        "from networkx.algorithms import tournament\n",
        "\n",
        "df = pd.read_csv(\"https://raw.githubusercontent.com/rahmanziaur/TestGraphTheory/main/testGraph.csv\")\n",
        "\n",
        "G = nx.from_pandas_edgelist(df,source='source',target='target', edge_attr=None, create_using=nx.DiGraph())\n",
        "\n",
        "\n",
        "print(nx.single_source_shortest_path(G,282))\n",
        "\n",
        "print(tournament.is_reachable(G, 6, 202))\n",
        "# source =282\n",
        "# count=0;\n",
        "# for node in G:\n",
        "#   print(tournament.is_reachable(G, source, node))\n",
        "#   if (tournament.is_reachable(G, source, node)==True) :\n",
        "#       print(source, node)\n",
        "#       count = count + 1;\n",
        "# print(count)"
      ],
      "metadata": {
        "id": "nBQx13WnVUiO",
        "outputId": "1218b723-8a84-4ff8-acaa-38dd9b0c6eda",
        "colab": {
          "base_uri": "https://localhost:8080/"
        }
      },
      "execution_count": 7,
      "outputs": [
        {
          "output_type": "stream",
          "name": "stdout",
          "text": [
            "{282: [282], 38: [282, 38], 139: [282, 139], 158: [282, 158], 160: [282, 160], 236: [282, 236], 6: [282, 6], 240: [282, 240]}\n",
            "True\n"
          ]
        }
      ]
    },
    {
      "cell_type": "code",
      "source": [
        "# Python3 program to find all the reachable nodes\n",
        "# for every node present in arr[0..n-1]\n",
        "from collections import deque\n",
        "\n",
        "def addEdge(v, w):\n",
        "\t\n",
        "\tglobal visited, adj\n",
        "\tadj[v].append(w)\n",
        "\tadj[w].append(v)\n",
        "\n",
        "def BFS(componentNum, src):\n",
        "\t\n",
        "\tglobal visited, adj\n",
        "\t\n",
        "\t# Mark all the vertices as not visited\n",
        "\t# Create a queue for BFS\n",
        "\t#a = visited\n",
        "\tqueue = deque()\n",
        "\n",
        "\tqueue.append(src)\n",
        "\n",
        "\t# Assign Component Number\n",
        "\tvisited[src] = 1\n",
        "\n",
        "\t# Vector to store all the reachable\n",
        "\t# nodes from 'src'\n",
        "\treachableNodes = []\n",
        "\t#print(\"0:\",visited)\n",
        "\n",
        "\twhile (len(queue) > 0):\n",
        "\t\t\n",
        "\t\t# Dequeue a vertex from queue\n",
        "\t\tu = queue.popleft()\n",
        "\n",
        "\t\treachableNodes.append(u)\n",
        "\n",
        "\t\t# Get all adjacent vertices of the dequeued\n",
        "\t\t# vertex u. If a adjacent has not been visited,\n",
        "\t\t# then mark it visited and enqueue it\n",
        "\t\tfor itr in adj[u]:\n",
        "\t\t\tif (visited[itr] == 0):\n",
        "\t\t\t\t\n",
        "\t\t\t\t# Assign Component Number to all the\n",
        "\t\t\t\t# reachable nodes\n",
        "\t\t\t\tvisited[itr] = 1\n",
        "\t\t\t\tqueue.append(itr)\n",
        "\n",
        "\treturn reachableNodes\n",
        "\n",
        "# Display all the Reachable Nodes\n",
        "# from a node 'n'\n",
        "def displayReachableNodes(m):\n",
        "\t\n",
        "\tfor i in m:\n",
        "\t\tprint(i, end = \" \")\n",
        "\n",
        "\tprint()\n",
        "\n",
        "def findReachableNodes(arr, n):\n",
        "\t\n",
        "\tglobal V, adj, visited\n",
        "\t\n",
        "\t# Get the number of nodes in the graph\n",
        "\n",
        "\t# Map to store list of reachable Nodes for a\n",
        "\t# given node.\n",
        "\ta = []\n",
        "\n",
        "\t# Initialize component Number with 0\n",
        "\tcomponentNum = 0\n",
        "\n",
        "\t# For each node in arr[] find reachable\n",
        "\t# Nodes\n",
        "\tfor i in range(n):\n",
        "\t\tu = arr[i]\n",
        "\n",
        "\t\t# Visit all the nodes of the component\n",
        "\t\tif (visited[u] == 0):\n",
        "\t\t\tcomponentNum += 1\n",
        "\n",
        "\t\t\t# Store the reachable Nodes corresponding\n",
        "\t\t\t# to the node 'i'\n",
        "\t\t\ta = BFS(componentNum, u)\n",
        "\n",
        "\t\t# At this point, we have all reachable nodes\n",
        "\t\t# from u, print them by doing a look up in map m.\n",
        "\t\tprint(\"Reachable Nodes from \", u, \" are\")\n",
        "\t\tdisplayReachableNodes(a)\n",
        "\n",
        "# Driver code\n",
        "if __name__ == '__main__':\n",
        "\t\n",
        "  # df = pd.read_csv(\"https://raw.githubusercontent.com/rahmanziaur/TestGraphTheory/main/testGraph.csv\")\n",
        "\n",
        "  # G = nx.from_pandas_edgelist(df,source='source',target='target', edge_attr=None, create_using=nx.DiGraph())\n",
        "\n",
        "\tV = 7\n",
        "\tadj = [[] for i in range(V + 1)]\n",
        "\tvisited = [0 for i in range(V + 1)]\n",
        "\taddEdge(1, 2)\n",
        "\taddEdge(2, 3)\n",
        "\taddEdge(3, 4)\n",
        "\taddEdge(3, 1)\n",
        "\taddEdge(5, 6)\n",
        "\taddEdge(5, 7)\n",
        "\n",
        "\t# For every ith element in the arr\n",
        "\t# find all reachable nodes from query[i]\n",
        "\tarr = [ 2, 3, 4 ]\n",
        "\n",
        "\t# Find number of elements in Set\n",
        "\tn = len(arr)\n",
        "\n",
        "\tfindReachableNodes(arr, n)\n",
        "\n",
        "# This code is contributed by mohit kumar 29\n"
      ],
      "metadata": {
        "id": "IOb7WUq3X64P",
        "outputId": "a6ec5f55-630c-46ce-a277-11ea2c955a38",
        "colab": {
          "base_uri": "https://localhost:8080/"
        }
      },
      "execution_count": 10,
      "outputs": [
        {
          "output_type": "stream",
          "name": "stdout",
          "text": [
            "Reachable Nodes from  2  are\n",
            "2 1 3 4 \n",
            "Reachable Nodes from  3  are\n",
            "2 1 3 4 \n",
            "Reachable Nodes from  4  are\n",
            "2 1 3 4 \n"
          ]
        }
      ]
    }
  ]
}