{
  "nbformat": 4,
  "nbformat_minor": 0,
  "metadata": {
    "colab": {
      "provenance": [],
      "authorship_tag": "ABX9TyMA4L0msm3pGkdfMwstIfgW",
      "include_colab_link": true
    },
    "kernelspec": {
      "name": "python3",
      "display_name": "Python 3"
    },
    "language_info": {
      "name": "python"
    }
  },
  "cells": [
    {
      "cell_type": "markdown",
      "metadata": {
        "id": "view-in-github",
        "colab_type": "text"
      },
      "source": [
        "<a href=\"https://colab.research.google.com/github/rahmanziaur/TestGraphTheory/blob/main/2_Pagerank_and_RiskScore.ipynb\" target=\"_parent\"><img src=\"https://colab.research.google.com/assets/colab-badge.svg\" alt=\"Open In Colab\"/></a>"
      ]
    },
    {
      "cell_type": "code",
      "execution_count": 1,
      "metadata": {
        "colab": {
          "base_uri": "https://localhost:8080/"
        },
        "id": "gISvW45KeOrS",
        "outputId": "60a03b45-93ce-4af1-f664-2be84e67db5d"
      },
      "outputs": [
        {
          "output_type": "stream",
          "name": "stderr",
          "text": [
            "<ipython-input-1-1dacbd2b04a9>:16: FutureWarning: The default dtype for empty Series will be 'object' instead of 'float64' in a future version. Specify a dtype explicitly to silence this warning.\n",
            "  in_reach = pd.Series([])\n",
            "<ipython-input-1-1dacbd2b04a9>:35: FutureWarning: The default dtype for empty Series will be 'object' instead of 'float64' in a future version. Specify a dtype explicitly to silence this warning.\n",
            "  score = pd.Series([])\n",
            "<ipython-input-1-1dacbd2b04a9>:36: FutureWarning: The default dtype for empty Series will be 'object' instead of 'float64' in a future version. Specify a dtype explicitly to silence this warning.\n",
            "  score20 = pd.Series([])\n",
            "<ipython-input-1-1dacbd2b04a9>:37: FutureWarning: The default dtype for empty Series will be 'object' instead of 'float64' in a future version. Specify a dtype explicitly to silence this warning.\n",
            "  score30 = pd.Series([])\n",
            "<ipython-input-1-1dacbd2b04a9>:38: FutureWarning: The default dtype for empty Series will be 'object' instead of 'float64' in a future version. Specify a dtype explicitly to silence this warning.\n",
            "  score50 = pd.Series([])\n"
          ]
        }
      ],
      "source": [
        "import pandas as pd\n",
        "import networkx as nx\n",
        "import numpy as np\n",
        "\n",
        "df_sc = pd.read_csv('https://raw.githubusercontent.com/rahmanziaur/TestGraphTheory/main/edge.csv')\n",
        "g_sc = nx.from_pandas_edgelist(df_sc, source='Source', target='Target', edge_attr =None, create_using=nx.DiGraph())\n",
        "r_g_sc = nx.reverse(g_sc)\n",
        "\n",
        "#df_pr_risk = pd.read_csv(\"https://raw.githubusercontent.com/rahmanziaur/TestGraphTheory/main/Reverse_Final_1.6.csv\")\n",
        "#\n",
        "\n",
        "#df_pr_risk = pd.read_csv('t8.csv')\n",
        "\n",
        "df_pr_risk = pd.read_csv('https://raw.githubusercontent.com/rahmanziaur/rahman/master/final-risk-score-rub.csv')\n",
        "\n",
        "in_reach = pd.Series([])\n",
        "\n",
        "#reachability\n",
        "\n",
        "for k in df_pr_risk['Id']:\n",
        "    in_reach[k] = len(nx.shortest_path(g_sc, k).keys())\n",
        "\n",
        "df_pr_risk.insert(len(df_pr_risk.columns), 'In_reach', in_reach)\n",
        "\n",
        "#reachable_node_list\n",
        "\n",
        "list_of_reach_node_list = [[] for _ in range(len(df_pr_risk['Id']))]\n",
        "\n",
        "for k in df_pr_risk['Id']:\n",
        "  for reach_nodes in nx.shortest_path(g_sc, k).keys():\n",
        "    list_of_reach_node_list[k].append(reach_nodes)\n",
        "\n",
        "#Agg_RS\n",
        "\n",
        "score = pd.Series([])\n",
        "score20 = pd.Series([])\n",
        "score30 = pd.Series([])\n",
        "score50 = pd.Series([])\n",
        "\n",
        "for row in list_of_reach_node_list:\n",
        "  sum=0\n",
        "  sum20 = 0\n",
        "  sum30 = 0\n",
        "  sum50 = 0\n",
        "\n",
        "  for node_id in row:\n",
        "    if np.isnan(df_pr_risk['FinalRiskScore'][node_id]):\n",
        "      continue\n",
        "\n",
        "    sum = sum + df_pr_risk['FinalRiskScore'][node_id]\n",
        "\n",
        "    if df_pr_risk['FinalRiskScore'][node_id] >= 0.20:\n",
        "      sum20 = sum20 + df_pr_risk['FinalRiskScore'][node_id]\n",
        "\n",
        "    if df_pr_risk['FinalRiskScore'][node_id] >= 0.30:\n",
        "      sum30 = sum30 + df_pr_risk['FinalRiskScore'][node_id]\n",
        "\n",
        "    if df_pr_risk['FinalRiskScore'][node_id] >= 0.50:\n",
        "      sum50 = sum50 + df_pr_risk['FinalRiskScore'][node_id]\n",
        "\n",
        "\n",
        "  score[row[0]] = sum\n",
        "  score20[row[0]] = sum20\n",
        "  score30[row[0]] = sum30\n",
        "  score50[row[0]] = sum50\n",
        "\n",
        "df_pr_risk.insert(len(df_pr_risk.columns),'Agg_RS)', score)\n",
        "df_pr_risk.insert(len(df_pr_risk.columns),'Agg_RS20)', score20)\n",
        "df_pr_risk.insert(len(df_pr_risk.columns),'Agg_RS30)', score30)\n",
        "df_pr_risk.insert(len(df_pr_risk.columns),'Agg_RS50)', score50)\n",
        "df_pr_risk.to_csv('Agg_RS_full_1.csv')\n"
      ]
    }
  ]
}